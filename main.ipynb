{
 "cells": [
  {
   "cell_type": "code",
   "execution_count": 41,
   "metadata": {},
   "outputs": [],
   "source": [
    "import cv2\n",
    "import numpy as np"
   ]
  },
  {
   "cell_type": "code",
   "execution_count": 42,
   "metadata": {},
   "outputs": [],
   "source": [
    "vid_location = 'water-videos/Run4.sloshing.h264'\n",
    "cap = cv2.VideoCapture(vid_location)\n",
    "\n",
    "frame_width = int(cap.get(cv2.CAP_PROP_FRAME_WIDTH))\n",
    "frame_height = int(cap.get(cv2.CAP_PROP_FRAME_HEIGHT))\n",
    "fps = cap.get(cv2.CAP_PROP_FPS)\n",
    "\n",
    "output_path = \"water_line_only_video.mp4\"\n",
    "fourcc = cv2.VideoWriter_fourcc(*'mp4v')\n",
    "out = cv2.VideoWriter(output_path, fourcc, fps, (frame_width, frame_height), isColor=False)\n",
    "\n",
    "\n",
    "if not cap.isOpened():\n",
    "    print('Error: Could not capture image')\n",
    "else:\n",
    "\n",
    "    while cap.isOpened():\n",
    "        ret, frame = cap.read()\n",
    "        if not ret:\n",
    "            break\n",
    "\n",
    "        if vid_location == 'water-videos/Run5.sloshing.h26':\n",
    "            frame = cv2.flip(frame, 0)\n",
    "\n",
    "        # Convert to grayscale\n",
    "        gray = cv2.cvtColor(frame, cv2.COLOR_BGR2GRAY)\n",
    "        \n",
    "        # Apply Gaussian blur\n",
    "        blurred = cv2.GaussianBlur(gray, (5,5), 0)\n",
    "\n",
    "        canny_edges_blur = cv2.Canny(blurred, 50, 100)\n",
    "        canny_edges = cv2.Canny(gray, 50, 100)\n",
    "\n",
    "        laplacian_edges = cv2.Laplacian(gray, cv2.CV_64F)\n",
    "        laplacian_edges = np.uint8(laplacian_edges)\n",
    "\n",
    "        laplacian_edges_blur = cv2.Laplacian(blurred, cv2.CV_64F)\n",
    "        laplacian_edges_blur = np.uint8(laplacian_edges_blur)\n",
    "\n",
    "        cv2.imshow('Canny Edges', canny_edges)\n",
    "        cv2.imshow('Canny Edges Blur', canny_edges_blur)\n",
    "\n",
    "        cv2.imshow('Laplacian Edges', laplacian_edges)\n",
    "        cv2.imshow('Laplacian Edges Blur', laplacian_edges_blur)\n",
    "\n",
    "        if cv2.waitKey(25) == ord('q'):\n",
    "            break\n",
    "\n",
    "\n",
    "    cap.release()\n",
    "    cv2.destroyAllWindows()"
   ]
  },
  {
   "cell_type": "code",
   "execution_count": null,
   "metadata": {},
   "outputs": [],
   "source": []
  }
 ],
 "metadata": {
  "kernelspec": {
   "display_name": ".venv",
   "language": "python",
   "name": "python3"
  },
  "language_info": {
   "codemirror_mode": {
    "name": "ipython",
    "version": 3
   },
   "file_extension": ".py",
   "mimetype": "text/x-python",
   "name": "python",
   "nbconvert_exporter": "python",
   "pygments_lexer": "ipython3",
   "version": "3.12.3"
  }
 },
 "nbformat": 4,
 "nbformat_minor": 2
}
